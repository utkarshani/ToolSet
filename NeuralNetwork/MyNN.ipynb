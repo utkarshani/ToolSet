{
 "cells": [
  {
   "cell_type": "markdown",
   "metadata": {
    "deletable": true,
    "editable": true
   },
   "source": [
    "Learing the basics of Neural Network"
   ]
  },
  {
   "cell_type": "code",
   "execution_count": 1,
   "metadata": {
    "collapsed": true,
    "deletable": true,
    "editable": true
   },
   "outputs": [],
   "source": [
    "#Import all the necessary packages\n",
    "import numpy as np\n",
    "import math\n",
    "import matplotlib.pyplot as plt\n",
    "import cv2"
   ]
  },
  {
   "cell_type": "markdown",
   "metadata": {
    "deletable": true,
    "editable": true
   },
   "source": [
    "### Receptive Field\n",
    "$$y=b+\\sum\\limits_{x=1}^{n} {w*x}$$\n",
    "\n",
    "The above problem is same as:\n",
    "$$ y= mx +c$$\n",
    "\n",
    "#### Example of using Neural Network \n",
    "$$x_{input}=[2,3,4,5,6,7,8,9,10]; x_{size}= 9x1$$\n",
    "\n",
    "$$y_{obs}=[4,6,8,10,12,14,16,18,20]; y_{size}= 9x1$$\n",
    "\n",
    "$$w= $$\n",
    "\\begin{bmatrix} \n",
    "w_{11} & w_{12} & w_{13} & w_{14} & w_{15} & w_{16} & w_{17} & w_{18} & w_{19}\\\\\n",
    "w_{21} & w_{22} & w_{23} & w_{24} & w_{25} & w_{26} & w_{27} & w_{28} & w_{29}\\\\\n",
    "w_{31} & w_{32} & w_{33} & w_{34} & w_{35} & w_{36} & w_{37} & w_{38} & w_{39}\\\\\n",
    "w_{41} & w_{42} & w_{43} & w_{44} & w_{45} & w_{46} & w_{47} & w_{48} & w_{49}\\\\\n",
    "w_{51} & w_{52} & w_{53} & w_{54} & w_{55} & w_{56} & w_{57} & w_{58} & w_{59}\\\\\n",
    "w_{61} & w_{62} & w_{63} & w_{64} & w_{65} & w_{66} & w_{67} & w_{68} & w_{69}\\\\\n",
    "w_{71} & w_{72} & w_{73} & w_{74} & w_{75} & w_{76} & w_{77} & w_{78} & w_{79}\\\\\n",
    "w_{81} & w_{82} & w_{83} & w_{84} & w_{85} & w_{86} & w_{87} & w_{88} & w_{89}\\\\\n",
    "w_{91} & w_{92} & w_{93} & w_{94} & w_{95} & w_{96} & w_{97} & w_{98} & w_{99}\n",
    "\\end{bmatrix}\n",
    "\n",
    "\n",
    "Hence Receptive Field-\n",
    "$$x^T.w=(1x9).(9x9)=(1x9)$$\n",
    "$$w.x^T=(1x9).(9x9)=(1x9)$$\n",
    "\n",
    "So solving using $$w.x^T=(1x9).(9x9)=(1x9)$$\n",
    "\n",
    "\n",
    "\n",
    "\n",
    "\n",
    "\n",
    "\n"
   ]
  },
  {
   "cell_type": "code",
   "execution_count": 21,
   "metadata": {
    "collapsed": false,
    "deletable": true,
    "editable": true
   },
   "outputs": [
    {
     "name": "stdout",
     "output_type": "stream",
     "text": [
      "3\n",
      "[[1. 1. 1.]\n",
      " [1. 1. 1.]\n",
      " [1. 1. 1.]]\n"
     ]
    }
   ],
   "source": [
    "#inputs\n",
    "#x=np.array([2,3,4,5,6,7,8,9,10])\n",
    "x=np.array([2,3,4])\n",
    "x=np.transpose(x)\n",
    "print x.size\n",
    "#w=[1,2,2,2,2,2,2,2,2,2]\n",
    "#w=np.random.uniform(0,1,(x.size,x.size))\n",
    "#wsize=(x.size,x.size)\n",
    "#w=np.ones(wsize)\n",
    "#w=np.transpose(w)\n",
    "#print w.shape\n",
    "#print \"Weights:\",w\n",
    "#y=[4,6,8,10,12,14,16,18,20]\n",
    "y=[4,6,8]\n",
    "#w=np.random.rand(4,4)\n",
    "#w=np.full((3,3), 1)\n",
    "w=np.ones((3,3), dtype=float)\n",
    "print w\n",
    "#receptive=[]\n",
    "#error=[]"
   ]
  },
  {
   "cell_type": "raw",
   "metadata": {
    "deletable": true,
    "editable": true
   },
   "source": [
    "for i,j in zip(x,y):\n",
    "    receptiveField=np.dot(w,i)\n",
    "    error=j-receptiveField\n",
    "    LR=1.5\n",
    "    while(error>0.01):\n",
    "        w=w-(LR*error)\n",
    "        receptiveField=np.dot(w,i)\n",
    "        error=y-receptiveField\n",
    "        print error\n",
    "print \"Weights:\",w"
   ]
  },
  {
   "cell_type": "code",
   "execution_count": 22,
   "metadata": {
    "collapsed": true,
    "deletable": true,
    "editable": true
   },
   "outputs": [],
   "source": [
    "#Receptive field y=transpose(w)*x\n",
    "def receptiveField(w,x):\n",
    "    perNeuron=np.dot(w,x)\n",
    "    #print perNeuron\n",
    "    return perNeuron \n",
    "\n",
    "def activationFunc(receptive):\n",
    "    #aplha=1\n",
    "    #sigmoid=1/(1+np.exp(-np.dot(aplha,receptive)))\n",
    "    sigmoid=receptive\n",
    "    return sigmoid\n",
    "    \n",
    "def errorFunc(activation):\n",
    "    error=activation-y\n",
    "    #print error\n",
    "    return error\n",
    "    "
   ]
  },
  {
   "cell_type": "code",
   "execution_count": 23,
   "metadata": {
    "collapsed": false,
    "deletable": true,
    "editable": true
   },
   "outputs": [
    {
     "name": "stdout",
     "output_type": "stream",
     "text": [
      "Receptive: [9. 9. 9.]\n",
      "Y: [4, 6, 8]\n",
      "Error in Y observed-Y: [5. 3. 1.]\n",
      "Weights before update: [[1. 1. 1.]\n",
      " [1. 1. 1.]\n",
      " [1. 1. 1.]]\n",
      "Updated Weights\n",
      " [[0.5  0.55 0.8 ]\n",
      " [0.5  0.55 0.8 ]\n",
      " [0.5  0.55 0.8 ]]\n",
      "None\n",
      "Receptive: [5.85 5.85 5.85]\n",
      "Error in Y observed-Y: [ 1.85 -0.15 -2.15]\n",
      "Updated Weights\n",
      " [[0.  0.1 0.6]\n",
      " [0.  0.1 0.6]\n",
      " [0.  0.1 0.6]]\n",
      "None\n",
      "Receptive: [2.7 2.7 2.7]\n",
      "Error in Y observed-Y: [-1.3 -3.3 -5.3]\n",
      "Updated Weights\n",
      " [[-0.5  -0.35  0.4 ]\n",
      " [-0.5  -0.35  0.4 ]\n",
      " [-0.5  -0.35  0.4 ]]\n",
      "None\n",
      "Receptive: [-0.45 -0.45 -0.45]\n",
      "Error in Y observed-Y: [-4.45 -6.45 -8.45]\n",
      "Updated Weights\n",
      " [[-1.  -0.8  0.2]\n",
      " [-1.  -0.8  0.2]\n",
      " [-1.  -0.8  0.2]]\n",
      "None\n",
      "Receptive: [-3.6 -3.6 -3.6]\n",
      "Error in Y observed-Y: [ -7.6  -9.6 -11.6]\n",
      "Updated Weights\n",
      " [[-1.50000000e+00 -1.25000000e+00  5.55111512e-17]\n",
      " [-1.50000000e+00 -1.25000000e+00  5.55111512e-17]\n",
      " [-1.50000000e+00 -1.25000000e+00  5.55111512e-17]]\n",
      "None\n",
      "Receptive: [-6.75 -6.75 -6.75]\n",
      "Error in Y observed-Y: [-10.75 -12.75 -14.75]\n",
      "Updated Weights\n",
      " [[-2.  -1.7 -0.2]\n",
      " [-2.  -1.7 -0.2]\n",
      " [-2.  -1.7 -0.2]]\n",
      "None\n",
      "Receptive: [-9.9 -9.9 -9.9]\n",
      "Error in Y observed-Y: [-13.9 -15.9 -17.9]\n",
      "Updated Weights\n",
      " [[-2.5  -2.15 -0.4 ]\n",
      " [-2.5  -2.15 -0.4 ]\n",
      " [-2.5  -2.15 -0.4 ]]\n",
      "None\n",
      "Receptive: [-13.05 -13.05 -13.05]\n",
      "Error in Y observed-Y: [-17.05 -19.05 -21.05]\n",
      "Updated Weights\n",
      " [[-3.  -2.6 -0.6]\n",
      " [-3.  -2.6 -0.6]\n",
      " [-3.  -2.6 -0.6]]\n",
      "None\n",
      "Receptive: [-16.2 -16.2 -16.2]\n",
      "Error in Y observed-Y: [-20.2 -22.2 -24.2]\n",
      "Updated Weights\n",
      " [[-3.5  -3.05 -0.8 ]\n",
      " [-3.5  -3.05 -0.8 ]\n",
      " [-3.5  -3.05 -0.8 ]]\n",
      "None\n",
      "Receptive: [-19.35 -19.35 -19.35]\n",
      "Error in Y observed-Y: [-23.35 -25.35 -27.35]\n",
      "Updated Weights\n",
      " [[-4.  -3.5 -1. ]\n",
      " [-4.  -3.5 -1. ]\n",
      " [-4.  -3.5 -1. ]]\n",
      "None\n",
      "Receptive: [-22.5 -22.5 -22.5]\n",
      "Error in Y observed-Y: [-26.5 -28.5 -30.5]\n",
      "Updated Weights\n",
      " [[-4.5  -3.95 -1.2 ]\n",
      " [-4.5  -3.95 -1.2 ]\n",
      " [-4.5  -3.95 -1.2 ]]\n",
      "None\n",
      "Receptive: [-25.65 -25.65 -25.65]\n",
      "Error in Y observed-Y: [-29.65 -31.65 -33.65]\n",
      "Updated Weights\n",
      " [[-5.  -4.4 -1.4]\n",
      " [-5.  -4.4 -1.4]\n",
      " [-5.  -4.4 -1.4]]\n",
      "None\n",
      "Receptive: [-28.8 -28.8 -28.8]\n",
      "Error in Y observed-Y: [-32.8 -34.8 -36.8]\n",
      "Updated Weights\n",
      " [[-5.5  -4.85 -1.6 ]\n",
      " [-5.5  -4.85 -1.6 ]\n",
      " [-5.5  -4.85 -1.6 ]]\n",
      "None\n",
      "Receptive: [-31.95 -31.95 -31.95]\n",
      "Error in Y observed-Y: [-35.95 -37.95 -39.95]\n",
      "Updated Weights\n",
      " [[-6.  -5.3 -1.8]\n",
      " [-6.  -5.3 -1.8]\n",
      " [-6.  -5.3 -1.8]]\n",
      "None\n",
      "Receptive: [-35.1 -35.1 -35.1]\n",
      "Error in Y observed-Y: [-39.1 -41.1 -43.1]\n",
      "Updated Weights\n",
      " [[-6.5  -5.75 -2.  ]\n",
      " [-6.5  -5.75 -2.  ]\n",
      " [-6.5  -5.75 -2.  ]]\n",
      "None\n",
      "Receptive: [-38.25 -38.25 -38.25]\n",
      "Error in Y observed-Y: [-42.25 -44.25 -46.25]\n",
      "Updated Weights\n",
      " [[-7.  -6.2 -2.2]\n",
      " [-7.  -6.2 -2.2]\n",
      " [-7.  -6.2 -2.2]]\n",
      "None\n",
      "Receptive: [-41.4 -41.4 -41.4]\n",
      "Error in Y observed-Y: [-45.4 -47.4 -49.4]\n",
      "Updated Weights\n",
      " [[-7.5  -6.65 -2.4 ]\n",
      " [-7.5  -6.65 -2.4 ]\n",
      " [-7.5  -6.65 -2.4 ]]\n",
      "None\n",
      "Receptive: [-44.55 -44.55 -44.55]\n",
      "Error in Y observed-Y: [-48.55 -50.55 -52.55]\n",
      "Updated Weights\n",
      " [[-8.  -7.1 -2.6]\n",
      " [-8.  -7.1 -2.6]\n",
      " [-8.  -7.1 -2.6]]\n",
      "None\n",
      "Receptive: [-47.7 -47.7 -47.7]\n",
      "Error in Y observed-Y: [-51.7 -53.7 -55.7]\n",
      "Updated Weights\n",
      " [[-8.5  -7.55 -2.8 ]\n",
      " [-8.5  -7.55 -2.8 ]\n",
      " [-8.5  -7.55 -2.8 ]]\n",
      "None\n",
      "Receptive: [-50.85 -50.85 -50.85]\n",
      "Error in Y observed-Y: [-54.85 -56.85 -58.85]\n",
      "Updated Weights\n",
      " [[-9. -8. -3.]\n",
      " [-9. -8. -3.]\n",
      " [-9. -8. -3.]]\n",
      "None\n",
      "Receptive: [-54. -54. -54.]\n",
      "Error in Y observed-Y: [-58. -60. -62.]\n",
      "Updated Weights\n",
      " [[-9.5  -8.45 -3.2 ]\n",
      " [-9.5  -8.45 -3.2 ]\n",
      " [-9.5  -8.45 -3.2 ]]\n",
      "None\n",
      "Receptive: [-57.15 -57.15 -57.15]\n",
      "Error in Y observed-Y: [-61.15 -63.15 -65.15]\n",
      "Updated Weights\n",
      " [[-10.   -8.9  -3.4]\n",
      " [-10.   -8.9  -3.4]\n",
      " [-10.   -8.9  -3.4]]\n",
      "None\n",
      "Receptive: [-60.3 -60.3 -60.3]\n",
      "Error in Y observed-Y: [-64.3 -66.3 -68.3]\n",
      "Updated Weights\n",
      " [[-10.5   -9.35  -3.6 ]\n",
      " [-10.5   -9.35  -3.6 ]\n",
      " [-10.5   -9.35  -3.6 ]]\n",
      "None\n",
      "Receptive: [-63.45 -63.45 -63.45]\n",
      "Error in Y observed-Y: [-67.45 -69.45 -71.45]\n",
      "Updated Weights\n",
      " [[-11.   -9.8  -3.8]\n",
      " [-11.   -9.8  -3.8]\n",
      " [-11.   -9.8  -3.8]]\n",
      "None\n",
      "Receptive: [-66.6 -66.6 -66.6]\n",
      "Error in Y observed-Y: [-70.6 -72.6 -74.6]\n",
      "Updated Weights\n",
      " [[-11.5  -10.25  -4.  ]\n",
      " [-11.5  -10.25  -4.  ]\n",
      " [-11.5  -10.25  -4.  ]]\n",
      "None\n",
      "Receptive: [-69.75 -69.75 -69.75]\n",
      "Error in Y observed-Y: [-73.75 -75.75 -77.75]\n",
      "Updated Weights\n",
      " [[-12.  -10.7  -4.2]\n",
      " [-12.  -10.7  -4.2]\n",
      " [-12.  -10.7  -4.2]]\n",
      "None\n",
      "Receptive: [-72.9 -72.9 -72.9]\n",
      "Error in Y observed-Y: [-76.9 -78.9 -80.9]\n",
      "Updated Weights\n",
      " [[-12.5  -11.15  -4.4 ]\n",
      " [-12.5  -11.15  -4.4 ]\n",
      " [-12.5  -11.15  -4.4 ]]\n",
      "None\n",
      "Receptive: [-76.05 -76.05 -76.05]\n",
      "Error in Y observed-Y: [-80.05 -82.05 -84.05]\n",
      "Updated Weights\n",
      " [[-13.  -11.6  -4.6]\n",
      " [-13.  -11.6  -4.6]\n",
      " [-13.  -11.6  -4.6]]\n",
      "None\n",
      "Receptive: [-79.2 -79.2 -79.2]\n",
      "Error in Y observed-Y: [-83.2 -85.2 -87.2]\n",
      "Updated Weights\n",
      " [[-13.5  -12.05  -4.8 ]\n",
      " [-13.5  -12.05  -4.8 ]\n",
      " [-13.5  -12.05  -4.8 ]]\n",
      "None\n",
      "Receptive: [-82.35 -82.35 -82.35]\n",
      "Error in Y observed-Y: [-86.35 -88.35 -90.35]\n",
      "Updated Weights\n",
      " [[-14.  -12.5  -5. ]\n",
      " [-14.  -12.5  -5. ]\n",
      " [-14.  -12.5  -5. ]]\n",
      "None\n",
      "Receptive: [-85.5 -85.5 -85.5]\n",
      "Error in Y observed-Y: [-89.5 -91.5 -93.5]\n"
     ]
    }
   ],
   "source": [
    "receptive= receptiveField(w,x)\n",
    "print \"Receptive:\", receptive \n",
    "#activation=activationFunc(receptive)  \n",
    "#print \"Activation:\",activation\n",
    "#yobs=errorFunc(activation)\n",
    "\n",
    "print \"Y:\", y\n",
    "error=errorFunc(receptive)\n",
    "print \"Error in Y observed-Y:\",error\n",
    "\n",
    "print \"Weights before update:\",w\n",
    "#print \"Updated Weights\"\n",
    "#update Weights\n",
    "def updateWeight(w):\n",
    "    LR=0.05\n",
    "    for i in xrange(3):\n",
    "        for j in xrange(3):\n",
    "            w[j,i]=(w[j,i])-(LR*error[i]*x[i])\n",
    "    print w\n",
    "\n",
    "#updateWeight()\n",
    "def checkError(error):\n",
    "    for n in xrange(10):\n",
    "        for i in xrange(3):\n",
    "            if error[i] !=0:\n",
    "                print \"Updated Weights\"\n",
    "                print \"\", updateWeight(w)\n",
    "                receptive= receptiveField(w,x)        \n",
    "                print \"Receptive:\", receptive \n",
    "                error=errorFunc(receptive)\n",
    "                print \"Error in Y observed-Y:\",error\n",
    "\n",
    "\n",
    "checkError(error) \n",
    "\n",
    "#Check the change in error; delta error\n"
   ]
  },
  {
   "cell_type": "code",
   "execution_count": 20,
   "metadata": {
    "collapsed": false,
    "deletable": true,
    "editable": true
   },
   "outputs": [
    {
     "name": "stdout",
     "output_type": "stream",
     "text": [
      "Receptive: [-0.45 -0.45 -0.45]\n",
      "Error in Y observed-Y: [-4.45 -6.45 -8.45]\n"
     ]
    }
   ],
   "source": [
    "receptive= receptiveField(w,x)\n",
    "print \"Receptive:\", receptive \n",
    "error=errorFunc(receptive)\n",
    "print \"Error in Y observed-Y:\",error\n",
    "\n"
   ]
  },
  {
   "cell_type": "code",
   "execution_count": null,
   "metadata": {
    "collapsed": true,
    "deletable": true,
    "editable": true
   },
   "outputs": [],
   "source": [
    "#receptiveField=np.dot(w,x)\n",
    "#print receptiveField\n",
    "#error=y-receptiveField\n",
    "#print error\n",
    "    \n",
    "def update(w):\n",
    "    LR=1.5\n",
    "    print \"Hello\"\n",
    "    receptiveField=np.dot(w,x)\n",
    "    error=y-receptiveField    \n",
    "    while (abs((error.) == 0.0 ):\n",
    "        print \"Hello While\"\n",
    "        w=w-(LR*error)\n",
    "        receptiveField=np.dot(w,x)\n",
    "        error=y-receptiveField\n",
    "        print error\n",
    "        #update(w,error)\n",
    "    return w    "
   ]
  },
  {
   "cell_type": "markdown",
   "metadata": {
    "deletable": true,
    "editable": true
   },
   "source": [
    "Image as an Input"
   ]
  },
  {
   "cell_type": "code",
   "execution_count": 163,
   "metadata": {
    "collapsed": true,
    "deletable": true,
    "editable": true
   },
   "outputs": [],
   "source": [
    "# read image into matrix.\n",
    "m =  cv2.imread(\"Y2x.png\")"
   ]
  },
  {
   "cell_type": "code",
   "execution_count": 167,
   "metadata": {
    "collapsed": false,
    "deletable": true,
    "editable": true
   },
   "outputs": [
    {
     "name": "stdout",
     "output_type": "stream",
     "text": [
      "h: 252\n",
      "w: 382\n",
      "bpp: 3\n",
      "(252, 382, 3)\n",
      "[255 255 255]\n"
     ]
    }
   ],
   "source": [
    "# get image properties.\n",
    "h,w,bpp = np.shape(m)\n",
    "print \"h:\",h\n",
    "print \"w:\",w\n",
    "print \"bpp:\",bpp\n",
    "\n",
    "print np.shape(m)\n",
    "# print pixel value\n",
    "y = 1\n",
    "x = 1\n",
    "print m[y][x]"
   ]
  },
  {
   "cell_type": "raw",
   "metadata": {
    "deletable": true,
    "editable": true
   },
   "source": [
    "# iterate over the entire image.\n",
    "for py in range(0,h):\n",
    "    for px in range(0,w):\n",
    "        print m[py][px]"
   ]
  },
  {
   "cell_type": "code",
   "execution_count": null,
   "metadata": {
    "collapsed": true,
    "deletable": true,
    "editable": true
   },
   "outputs": [],
   "source": []
  }
 ],
 "metadata": {
  "kernelspec": {
   "display_name": "Python 3",
   "language": "python",
   "name": "python3"
  },
  "language_info": {
   "codemirror_mode": {
    "name": "ipython",
    "version": 3
   },
   "file_extension": ".py",
   "mimetype": "text/x-python",
   "name": "python",
   "nbconvert_exporter": "python",
   "pygments_lexer": "ipython3",
   "version": "3.5.2"
  }
 },
 "nbformat": 4,
 "nbformat_minor": 2
}
