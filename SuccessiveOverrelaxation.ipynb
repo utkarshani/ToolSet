{
 "cells": [
  {
   "cell_type": "code",
   "execution_count": 3,
   "metadata": {},
   "outputs": [
    {
     "name": "stdout",
     "output_type": "stream",
     "text": [
      "Gauss Seidel Solution:  [[nan nan nan nan]\n",
      " [nan nan nan nan]\n",
      " [nan nan nan nan]\n",
      " [nan nan nan nan]]\n"
     ]
    },
    {
     "name": "stderr",
     "output_type": "stream",
     "text": [
      "/usr/local/lib/python2.7/site-packages/ipykernel_launcher.py:15: RuntimeWarning: divide by zero encountered in divide\n",
      "  from ipykernel import kernelapp as app\n",
      "/usr/local/lib/python2.7/site-packages/ipykernel_launcher.py:15: RuntimeWarning: invalid value encountered in add\n",
      "  from ipykernel import kernelapp as app\n"
     ]
    }
   ],
   "source": [
    "import numpy as np\n",
    "\n",
    "#A=np.array([[4,-1,0,1,0],[-1,4,-1,0,1],[0,-1,4,-1,0],[1,0,-1,4,-1],[0,1,0,-1,4]])\n",
    "#B=np.transpose(np.array([100,100,100,100,100]))\n",
    "#X=np.transpose(np.array([0,0,0,0,0]))\n",
    "\n",
    "x=np.array([2,3,4,5])\n",
    "y=[4,6,8,10]\n",
    "w=np.random.rand(4,4)\n",
    "\n",
    "def SuccessiveOverrelaxation(A,B,X):\n",
    "    R=B-np.dot(A,X)\n",
    "    w=1.10\n",
    "    for i in range(15):\n",
    "        X=X+w*(R/np.diag(A))\n",
    "        R=B-np.dot(A,X)\n",
    "    print \"Gauss Seidel Solution: \",X    \n",
    "\n",
    "#SuccessiveOverrelaxation(A,B,X)       \n",
    "SuccessiveOverrelaxation(x,y,w)       "
   ]
  },
  {
   "cell_type": "code",
   "execution_count": null,
   "metadata": {},
   "outputs": [],
   "source": []
  }
 ],
 "metadata": {
  "kernelspec": {
   "display_name": "Python 2",
   "language": "python",
   "name": "python2"
  },
  "language_info": {
   "codemirror_mode": {
    "name": "ipython",
    "version": 2
   },
   "file_extension": ".py",
   "mimetype": "text/x-python",
   "name": "python",
   "nbconvert_exporter": "python",
   "pygments_lexer": "ipython2",
   "version": "2.7.15"
  }
 },
 "nbformat": 4,
 "nbformat_minor": 2
}
